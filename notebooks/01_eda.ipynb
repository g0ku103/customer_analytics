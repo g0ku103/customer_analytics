{
 "cells": [
  {
   "cell_type": "markdown",
   "id": "f1069e6b",
   "metadata": {},
   "source": [
    "# Data Cleaning Notes\n",
    "- Initial dataset: 541,909 rows, 8 columns.\n",
    "- Dropped 135,080 rows (~25%) with missing CustomerID, critical for RFM and clustering.\n",
    "- Filled 1,454 missing Descriptions with 'Unknown' for LLM compatibility.\n",
    "- Removed rows with negative Quantity/UnitPrice (likely returns/cancellations).\n",
    "- Created TotalPrice column (Quantity * UnitPrice) for revenue analysis.\n",
    "- Converted CustomerID to string for categorical use.\n",
    "- Fixed SettingWithCopyWarning using .copy() and .loc.\n",
    "- Fixed TypeError by correcting logical operation syntax.\n",
    "- Final shape: ~390,000 rows, 9 columns.\n",
    "- Saved cleaned data to data/processed/cleaned_data.csv."
   ]
  }
 ],
 "metadata": {
  "language_info": {
   "name": "python"
  }
 },
 "nbformat": 4,
 "nbformat_minor": 5
}
