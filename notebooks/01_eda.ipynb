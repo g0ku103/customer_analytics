{
 "cells": [
  {
   "cell_type": "markdown",
   "id": "f1069e6b",
   "metadata": {},
   "source": [
    "# Data Cleaning Notes\n",
    "- Initial dataset: 541,909 rows, 8 columns.\n",
    "- Dropped 135,080 rows (~25%) with missing CustomerID, critical for RFM and clustering.\n",
    "- Filled 1,454 missing Descriptions with 'Unknown' for LLM compatibility.\n",
    "- Removed rows with negative Quantity/UnitPrice (likely returns/cancellations).\n",
    "- Created TotalPrice column (Quantity * UnitPrice) for revenue analysis.\n",
    "- Converted CustomerID to string for categorical use.\n",
    "- Fixed SettingWithCopyWarning using .copy() and .loc.\n",
    "- Fixed TypeError by correcting logical operation syntax.\n",
    "- Final shape: 392692 rows, 9 columns.\n",
    "- Saved cleaned data to data/processed/cleaned_data.csv."
   ]
  },
  {
   "cell_type": "markdown",
   "id": "f00cb6a6",
   "metadata": {},
   "source": [
    "# Exploratory Data Analysis (EDA)\n",
    "\n",
    "## Objectives\n",
    "- Analyze distributions of Quantity, UnitPrice, TotalPrice.\n",
    "- Explore monthly revenue trends.\n",
    "- Investigate revenue by country.\n",
    "- Compute customer-level metrics for RFM prep.\n",
    "\n",
    "## Findings\n",
    "- **Distributions**: Quantity, UnitPrice, TotalPrice are right-skewed, indicating outliers (e.g., high-value orders).\n",
    "- **Monthly Revenue**: Peaks in November/December, suggesting holiday-driven sales.\n",
    "- **Country Revenue**: UK dominates (>80% revenue), followed by Germany, France.\n",
    "- **Customer Metrics**: Median frequency ~2, monetary ~$674; some high-value customers (max $280k).\n",
    "- **Implications**: Focus on UK for marketing, cap outliers for modeling, leverage seasonal trends for forecasting.\n",
    "\n",
    "## Visualizations\n",
    "![Distributions](visualizations/distributions.png)\n",
    "![Monthly Revenue](visualizations/monthly_revenue.png)\n",
    "![Country Revenue](visualizations/country_revenue.png)"
   ]
  },
  {
   "cell_type": "markdown",
   "id": "4f385bba",
   "metadata": {},
   "source": [
    "# RFM Analysis\n",
    "\n",
    "## Objectives\n",
    "- Calculate Recency, Frequency, Monetary metrics.\n",
    "- Assign RFM scores and segments.\n",
    "- Visualize segment distribution.\n",
    "\n",
    "## Findings\n",
    "- High-Value customers (RFM 555) are ~5% of the base.\n",
    "- At-Risk customers (RFM ≤ 222) are ~20%, needing re-engagement.\n",
    "- Loyal customers (e.g., RFM 544) show consistent spending.\n",
    "\n",
    "## Visualization\n",
    "![Segments](visualizations/rfm_segments.png)"
   ]
  },
  {
   "cell_type": "markdown",
   "id": "3a81a53b",
   "metadata": {},
   "source": [
    "# Customer Segmentation with Clustering\n",
    "\n",
    "## Objectives\n",
    "- Apply K-Means clustering to RFM data.\n",
    "- Determine optimal number of clusters.\n",
    "- Visualize and interpret segments.\n",
    "\n",
    "## Findings\n",
    "- Optimal clusters: 4 (based on elbow method).\n",
    "- Segments identified: Low Activity, Regular, High Value, etc.\n",
    "- Visualization shows distinct groups by Recency and Monetary.\n",
    "\n",
    "## Visualization\n",
    "![Clusters](visualizations/customer_clusters.png)\n",
    "![Elbow](visualizations/elbow_plot.png)"
   ]
  },
  {
   "cell_type": "markdown",
   "id": "6a43b2db",
   "metadata": {},
   "source": [
    "# Revenue Forecasting with Machine Learning\n",
    "\n",
    "## Objectives\n",
    "- Predict customer revenue using RFM and cluster data.\n",
    "- Train and compare Linear Regression and Random Forest models.\n",
    "- Visualize and evaluate predictions.\n",
    "\n",
    "## Findings\n",
    "- Linear Regression: MSE 68142695.62, R2 0.33\n",
    "- Random Forest: MSE 38344259.88, R2 0.63\n",
    "- Random Forest outperforms, capturing non-linear patterns better.\n",
    "\n",
    "## Visualization\n",
    "![Predictions](visualizations/revenue_predictions.png)"
   ]
  },
  {
   "cell_type": "markdown",
   "id": "54cf878b",
   "metadata": {},
   "source": [
    "# LLM-Powered Insight Generation\n",
    "\n",
    "## Objectives\n",
    "- Generate business insights from RFM, clustering, and revenue data.\n",
    "- Provide actionable recommendations using LLM simulation.\n",
    "\n",
    "## Findings\n",
    "- High-Value customers: 347 (8.0%), At-Risk: 635 (14.6%).\n",
    "- Cluster 0: 3,060 customers, avg revenue $1,352.75.\n",
    "- Cluster 1: 1,061 customers, avg revenue $476.42.\n",
    "- Cluster 2: 13 customers, avg revenue $127,187.96.\n",
    "- Cluster 3: 204 customers, avg revenue $12,690.50.\n",
    "- Average actual revenue: $2,048.69, predicted: $2,116.68 (3.3% increase).\n",
    "\n",
    "## Recommendations\n",
    "- Invest in strategies to sustain predicted revenue growth.\n",
    "\n",
    "## Visualization\n",
    "![Insights](visualizations/insight_visualizations.png)"
   ]
  },
  {
   "cell_type": "code",
   "execution_count": 4,
   "id": "e40cdf98",
   "metadata": {},
   "outputs": [
    {
     "name": "stdout",
     "output_type": "stream",
     "text": [
      "   CustomerID         LastPurchase  Frequency  Monetary  Recency  R_Score  \\\n",
      "0       12346  2011-01-18 10:01:00          1  77183.60      324        1   \n",
      "1       12347  2011-12-07 15:52:00          7   4310.00        1        5   \n",
      "2       12348  2011-09-25 13:13:00          4   1797.24       74        2   \n",
      "3       12349  2011-11-21 09:51:00          1   1757.55       17        4   \n",
      "4       12350  2011-02-02 16:01:00          1    334.40      309        1   \n",
      "\n",
      "   F_Score  M_Score  RFM_Score     Segment  \n",
      "0        1        5        115      Others  \n",
      "1        5        5        555  High-Value  \n",
      "2        4        4        244      Others  \n",
      "3        1        4        414      Others  \n",
      "4        1        2        112     At-Risk  \n",
      "Total customers: 4338. High-Value customers: 347 (8.0%), At-Risk: 635 (14.6%).\n",
      "Cluster 0 has 3060 customers with average revenue of $1352.75.\n",
      "Cluster 1 has 1061 customers with average revenue of $476.42.\n",
      "Cluster 3 has 204 customers with average revenue of $12690.50.\n",
      "Cluster 2 has 13 customers with average revenue of $127187.96.\n",
      "Average actual revenue: $2048.69, Average predicted revenue: $2116.68. Difference suggests 3.3% change.\n",
      "Recommendation: Invest in strategies to sustain predicted revenue growth.\n"
     ]
    }
   ],
   "source": [
    "import pandas as pd\n",
    "df = pd.read_csv(\"../data/processed/rfm_data.csv\")\n",
    "print(df.head())\n",
    "with open(\"../insights/insights.txt\", \"r\") as f:\n",
    "    print(f.read())"
   ]
  },
  {
   "cell_type": "code",
   "execution_count": null,
   "id": "3015b16c",
   "metadata": {},
   "outputs": [],
   "source": []
  }
 ],
 "metadata": {
  "kernelspec": {
   "display_name": "Python 3",
   "language": "python",
   "name": "python3"
  },
  "language_info": {
   "codemirror_mode": {
    "name": "ipython",
    "version": 3
   },
   "file_extension": ".py",
   "mimetype": "text/x-python",
   "name": "python",
   "nbconvert_exporter": "python",
   "pygments_lexer": "ipython3",
   "version": "3.13.5"
  }
 },
 "nbformat": 4,
 "nbformat_minor": 5
}
