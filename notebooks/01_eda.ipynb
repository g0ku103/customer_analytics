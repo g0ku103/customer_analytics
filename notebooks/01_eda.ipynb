{
 "cells": [
  {
   "cell_type": "markdown",
   "id": "f1069e6b",
   "metadata": {},
   "source": [
    "# Data Cleaning Notes\n",
    "- Initial dataset: 541,909 rows, 8 columns.\n",
    "- Dropped 135,080 rows (~25%) with missing CustomerID, critical for RFM and clustering.\n",
    "- Filled 1,454 missing Descriptions with 'Unknown' for LLM compatibility.\n",
    "- Removed rows with negative Quantity/UnitPrice (likely returns/cancellations).\n",
    "- Created TotalPrice column (Quantity * UnitPrice) for revenue analysis.\n",
    "- Converted CustomerID to string for categorical use.\n",
    "- Fixed SettingWithCopyWarning using .copy() and .loc.\n",
    "- Fixed TypeError by correcting logical operation syntax.\n",
    "- Final shape: 392692 rows, 9 columns.\n",
    "- Saved cleaned data to data/processed/cleaned_data.csv."
   ]
  },
  {
   "cell_type": "markdown",
   "id": "f00cb6a6",
   "metadata": {},
   "source": [
    "# Exploratory Data Analysis (EDA)\n",
    "\n",
    "## Objectives\n",
    "- Analyze distributions of Quantity, UnitPrice, TotalPrice.\n",
    "- Explore monthly revenue trends.\n",
    "- Investigate revenue by country.\n",
    "- Compute customer-level metrics for RFM prep.\n",
    "\n",
    "## Findings\n",
    "- **Distributions**: Quantity, UnitPrice, TotalPrice are right-skewed, indicating outliers (e.g., high-value orders).\n",
    "- **Monthly Revenue**: Peaks in November/December, suggesting holiday-driven sales.\n",
    "- **Country Revenue**: UK dominates (>80% revenue), followed by Germany, France.\n",
    "- **Customer Metrics**: Median frequency ~2, monetary ~$674; some high-value customers (max $280k).\n",
    "- **Implications**: Focus on UK for marketing, cap outliers for modeling, leverage seasonal trends for forecasting.\n",
    "\n",
    "## Visualizations\n",
    "![Distributions](visualizations/distributions.png)\n",
    "![Monthly Revenue](visualizations/monthly_revenue.png)\n",
    "![Country Revenue](visualizations/country_revenue.png)"
   ]
  },
  {
   "cell_type": "markdown",
   "id": "4f385bba",
   "metadata": {},
   "source": [
    "# RFM Analysis\n",
    "\n",
    "## Objectives\n",
    "- Calculate Recency, Frequency, Monetary metrics.\n",
    "- Assign RFM scores and segments.\n",
    "- Visualize segment distribution.\n",
    "\n",
    "## Findings\n",
    "- High-Value customers (RFM 555) are ~5% of the base.\n",
    "- At-Risk customers (RFM ≤ 222) are ~20%, needing re-engagement.\n",
    "- Loyal customers (e.g., RFM 544) show consistent spending.\n",
    "\n",
    "## Visualization\n",
    "![Segments](visualizations/rfm_segments.png)"
   ]
  },
  {
   "cell_type": "markdown",
   "id": "3a81a53b",
   "metadata": {},
   "source": [
    "# Customer Segmentation with Clustering\n",
    "\n",
    "## Objectives\n",
    "- Apply K-Means clustering to RFM data.\n",
    "- Determine optimal number of clusters.\n",
    "- Visualize and interpret segments.\n",
    "\n",
    "## Findings\n",
    "- Optimal clusters: 4 (based on elbow method).\n",
    "- Segments identified: Low Activity, Regular, High Value, etc.\n",
    "- Visualization shows distinct groups by Recency and Monetary.\n",
    "\n",
    "## Visualization\n",
    "![Clusters](visualizations/customer_clusters.png)\n",
    "![Elbow](visualizations/elbow_plot.png)"
   ]
  },
  {
   "cell_type": "markdown",
   "id": "6a43b2db",
   "metadata": {},
   "source": [
    "# Revenue Forecasting with Machine Learning\n",
    "\n",
    "## Objectives\n",
    "- Predict customer revenue using RFM and cluster data.\n",
    "- Train and compare Linear Regression and Random Forest models.\n",
    "- Visualize and evaluate predictions.\n",
    "\n",
    "## Findings\n",
    "- Linear Regression: MSE 68142695.62, R2 0.33\n",
    "- Random Forest: MSE 38344259.88, R2 0.63\n",
    "- Random Forest outperforms, capturing non-linear patterns better.\n",
    "\n",
    "## Visualization\n",
    "![Predictions](visualizations/revenue_predictions.png)"
   ]
  }
 ],
 "metadata": {
  "language_info": {
   "name": "python"
  }
 },
 "nbformat": 4,
 "nbformat_minor": 5
}
